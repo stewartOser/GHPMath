{
 "cells": [
  {
   "cell_type": "code",
   "execution_count": 9,
   "id": "a32dd8ef-3ffd-4ced-a252-024a1252d55a",
   "metadata": {},
   "outputs": [
    {
     "name": "stdout",
     "output_type": "stream",
     "text": [
      "10000 6.954177299998264\n"
     ]
    }
   ],
   "source": [
    "import time\n",
    "max = 10000\n",
    "lst = []\n",
    "start_time = time.perf_counter()\n",
    "for x in range(2,max):\n",
    "    found = True\n",
    "    for d in range(2,x):\n",
    "        if (x % d == 0):\n",
    "            found = False\n",
    "    if found:\n",
    "        lst.append(x)\n",
    "end_time = time.perf_counter()\n",
    "print(max,end_time-start_time)\n",
    "#print(lst)\n",
    "\n",
    "# 100   0.00024910000138334    1\n",
    "# 1000  0.019834499998978572   79.6\n",
    "# 10000 6.954177299998264      27917.2"
   ]
  },
  {
   "cell_type": "code",
   "execution_count": 15,
   "id": "6c44f5cc-6d30-436c-811d-5649a649f20b",
   "metadata": {},
   "outputs": [
    {
     "name": "stdout",
     "output_type": "stream",
     "text": [
      "10000 0.7411926999993739\n"
     ]
    }
   ],
   "source": [
    "import time\n",
    "max = 10000\n",
    "lst = []\n",
    "start_time = time.perf_counter()\n",
    "for x in range(2,max):\n",
    "    found = True\n",
    "    for d in lst:\n",
    "        if (x % d == 0):\n",
    "            found = False\n",
    "    if found:\n",
    "        lst.append(x)\n",
    "end_time = time.perf_counter()\n",
    "print(max,end_time-start_time)\n",
    "#print(lst)\n",
    "\n",
    "# 100   0.0001190999973914586    1\n",
    "# 1000  0.0032930999987001996   27.6\n",
    "# 10000 0.7411926999993739      6223.3"
   ]
  },
  {
   "cell_type": "code",
   "execution_count": 23,
   "id": "cd69293d-011a-40e9-99e9-62a82bcc26de",
   "metadata": {},
   "outputs": [
    {
     "name": "stdout",
     "output_type": "stream",
     "text": [
      "1000000 2.9562071000000287\n"
     ]
    }
   ],
   "source": [
    "import time\n",
    "max = 1000000\n",
    "lst = []\n",
    "start_time = time.perf_counter()\n",
    "for x in range(2,max):\n",
    "    found = True\n",
    "    for d in lst:\n",
    "        if (d*d>x):\n",
    "            break\n",
    "        if (x % d == 0):\n",
    "            found = False\n",
    "            break\n",
    "    if found:\n",
    "        lst.append(x)\n",
    "end_time = time.perf_counter()\n",
    "print(max,end_time-start_time)\n",
    "#print(lst)\n",
    "\n",
    "#     100   0.00010850000035134144    \n",
    "#    1000   0.00030280000282800756   \n",
    "#   10000   0.0036141999989922624  \n",
    "#  100000   0.094527699999162\n",
    "# 1000000   2.9562071000000287"
   ]
  },
  {
   "cell_type": "code",
   "execution_count": 27,
   "id": "1c867f19-df20-4189-a319-c9841a003f51",
   "metadata": {},
   "outputs": [
    {
     "name": "stdout",
     "output_type": "stream",
     "text": [
      "1000000 2.7137053000005835\n"
     ]
    }
   ],
   "source": [
    "import time\n",
    "max = 1000000\n",
    "max1 = max // 6 + 1\n",
    "lst = [2,3]\n",
    "start_time = time.perf_counter()\n",
    "for x in range(1,max1+1):\n",
    "    xlo = 6*x - 1\n",
    "    xhi = 6*x + 1\n",
    "    found = True\n",
    "    for d in lst:\n",
    "        if (d*d>xlo):\n",
    "            break\n",
    "        if (xlo % d == 0):\n",
    "            found = False\n",
    "            break\n",
    "    if found:\n",
    "        lst.append(xlo)\n",
    "    found = True\n",
    "    for d in lst:\n",
    "        if (d*d>xhi):\n",
    "            break\n",
    "        if (xhi % d == 0):\n",
    "            found = False\n",
    "            break\n",
    "    if found:\n",
    "        lst.append(xhi)\n",
    "while  (lst[-1] > max):\n",
    "    lst = lst[:-1]\n",
    "end_time = time.perf_counter()\n",
    "print(max,end_time-start_time)\n",
    "#print(lst)"
   ]
  },
  {
   "cell_type": "code",
   "execution_count": 35,
   "id": "b428f1d1-9223-414d-899a-9d743c34a0d6",
   "metadata": {},
   "outputs": [
    {
     "name": "stdout",
     "output_type": "stream",
     "text": [
      "1000000 0.1659274000012374\n"
     ]
    }
   ],
   "source": [
    "import time\n",
    "max = 1000000\n",
    "lst = [True] * (max+1)\n",
    "lst[0] = False\n",
    "lst[1] = False\n",
    "p = 2\n",
    "start_time = time.perf_counter()\n",
    "while p * p <= max:\n",
    "    if lst[p]:\n",
    "        for i in range(p * p, max + 1, p):\n",
    "            lst[i] = False\n",
    "    p += 1\n",
    "end_time = time.perf_counter()\n",
    "print(max,end_time-start_time)\n",
    "\n",
    "#for p , v in enumerate(lst):\n",
    "#    if v:\n",
    "#        print(p)"
   ]
  }
 ],
 "metadata": {
  "kernelspec": {
   "display_name": "Python 3 (ipykernel)",
   "language": "python",
   "name": "python3"
  },
  "language_info": {
   "codemirror_mode": {
    "name": "ipython",
    "version": 3
   },
   "file_extension": ".py",
   "mimetype": "text/x-python",
   "name": "python",
   "nbconvert_exporter": "python",
   "pygments_lexer": "ipython3",
   "version": "3.13.3"
  }
 },
 "nbformat": 4,
 "nbformat_minor": 5
}
